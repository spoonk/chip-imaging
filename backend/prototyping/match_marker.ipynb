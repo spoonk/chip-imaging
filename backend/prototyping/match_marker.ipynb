{
 "cells": [
  {
   "cell_type": "code",
   "execution_count": null,
   "metadata": {},
   "outputs": [],
   "source": [
    "import cv2\n",
    "import matplotlib.pyplot as plt\n",
    "from PIL import Image\n",
    "import numpy as np\n",
    "import imutils\n",
    "import cv2 as cv"
   ]
  },
  {
   "cell_type": "code",
   "execution_count": null,
   "metadata": {},
   "outputs": [],
   "source": [
    "def rotate_image(image, angle):\n",
    "  image_center = tuple(np.array(image.shape[1::-1]) / 2)\n",
    "  rot_mat = cv2.getRotationMatrix2D(image_center, angle, 1.0)\n",
    "  result = cv2.warpAffine(image, rot_mat, image.shape[1::-1], flags=cv2.INTER_LINEAR)\n",
    "  return result"
   ]
  },
  {
   "cell_type": "code",
   "execution_count": 50,
   "metadata": {},
   "outputs": [],
   "source": [
    "def iterate_scales(image, template, scales):\n",
    "    for scale in scales:\n",
    "        image_gray = cv.cvtColor(image, cv.COLOR_BGR2GRAY)\n",
    "        # resized_template = imutils.resize(template, width = int(image.shape[1] * scale))\n",
    "\n",
    "        res = cv.matchTemplate(image_gray,template,cv.TM_CCOEFF_NORMED)\n",
    "        threshold = 0.35\n",
    "        loc = np.where( res >= threshold)\n",
    "        h, w = template.shape[::-1]\n",
    "        for pt in zip(*loc[::-1]):\n",
    "            print('gg')\n",
    "            cv.rectangle(image, pt, (pt[0] + w, pt[1] + h), (0,0,255), 2)\n",
    "            # print(pt)\n",
    "\n",
    "        if len(loc) >= 1:\n",
    "            print('howdy')\n",
    "            Image.fromarray(image).show()"
   ]
  },
  {
   "cell_type": "code",
   "execution_count": 51,
   "metadata": {},
   "outputs": [],
   "source": [
    "\n",
    "img_rgb = cv.imread('./marked_data/1_clean.jpeg')\n",
    "img_rgb = rotate_image(img_rgb, 2.72)\n",
    "template = cv.imread('./marked_data/black_square.jpg', cv.IMREAD_GRAYSCALE)[0:297, 0:296]\n",
    "# template = imutils.resize(template, width=100)\n",
    "# Image.fromarray(img_rgb).show()\n",
    "# Image.fromarray(template).show()"
   ]
  },
  {
   "cell_type": "code",
   "execution_count": 52,
   "metadata": {},
   "outputs": [
    {
     "name": "stdout",
     "output_type": "stream",
     "text": [
      "howdy\n"
     ]
    }
   ],
   "source": [
    "iterate_scales(img_rgb, template, [1])"
   ]
  },
  {
   "cell_type": "code",
   "execution_count": null,
   "metadata": {},
   "outputs": [],
   "source": [
    "# import cv2 as cv\n",
    "# import numpy as np\n",
    "# from matplotlib import pyplot as plt\n",
    "# img_rgb = cv.imread('./marked_data/1_clean.jpeg')\n",
    "# img_rgb = rotate_image(img_rgb, 2)\n",
    "\n",
    "# img_gray = cv.cvtColor(img_rgb, cv.COLOR_BGR2GRAY)\n",
    "# # img_gray = image = cv2.rotate(img_gray, cv2.ROTATE_90_CLOCKWISE)\n",
    "\n",
    "# template = cv.imread('./marked_data/black_square.jpg', cv.IMREAD_GRAYSCALE)[:, 0:400]\n",
    "\n",
    "# w, h = template.shape[::-1]\n",
    "# res = cv.matchTemplate(img_gray,template,cv.TM_CCOEFF_NORMED)\n",
    "# threshold = 0.5\n",
    "# loc = np.where( res >= threshold)\n",
    "# for pt in zip(*loc[::-1]):\n",
    "#     cv.rectangle(img_rgb, pt, (pt[0] + w, pt[1] + h), (0,0,255), 2)\n",
    "\n",
    "#     print(pt)\n",
    "# Image.fromarray(np.array(img_rgb)).show()\n",
    "# # cv.imwrite('res.png',img_rgb)"
   ]
  },
  {
   "cell_type": "code",
   "execution_count": null,
   "metadata": {},
   "outputs": [],
   "source": [
    "np.array(template).shape"
   ]
  },
  {
   "cell_type": "code",
   "execution_count": null,
   "metadata": {},
   "outputs": [],
   "source": []
  }
 ],
 "metadata": {
  "kernelspec": {
   "display_name": "backend-oAOPONjs",
   "language": "python",
   "name": "python3"
  },
  "language_info": {
   "codemirror_mode": {
    "name": "ipython",
    "version": 3
   },
   "file_extension": ".py",
   "mimetype": "text/x-python",
   "name": "python",
   "nbconvert_exporter": "python",
   "pygments_lexer": "ipython3",
   "version": "3.10.11"
  },
  "orig_nbformat": 4
 },
 "nbformat": 4,
 "nbformat_minor": 2
}
