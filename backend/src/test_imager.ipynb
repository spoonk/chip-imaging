{
 "cells": [
  {
   "cell_type": "code",
   "execution_count": 1,
   "metadata": {},
   "outputs": [],
   "source": [
    "\n",
    "import logging\n",
    "logging.basicConfig(level = logging.INFO)"
   ]
  },
  {
   "cell_type": "code",
   "execution_count": 2,
   "metadata": {},
   "outputs": [],
   "source": [
    "from imager.chip_imager import ChipImager\n",
    "from stage.pmm_stage import PMMStage\n",
    "from camera.pmm_camera import PMMCamera"
   ]
  },
  {
   "cell_type": "code",
   "execution_count": 3,
   "metadata": {},
   "outputs": [
    {
     "name": "stderr",
     "output_type": "stream",
     "text": [
      "INFO:root:pymmcore instance loaded\n",
      "INFO:root:camera instantiated\n",
      "INFO:root:stage instantiated\n"
     ]
    }
   ],
   "source": [
    "cam = PMMCamera()\n",
    "stage = PMMStage()"
   ]
  },
  {
   "cell_type": "code",
   "execution_count": 4,
   "metadata": {},
   "outputs": [],
   "source": [
    "imager = ChipImager(stage, cam)"
   ]
  },
  {
   "cell_type": "code",
   "execution_count": 5,
   "metadata": {},
   "outputs": [],
   "source": [
    "imager.run_image_acquisition(r\"C:\\Users\\Luke\\Desktop\\chip-imager\\chip-imaging\\backend\\prototyping\\sample_data\\test1\")"
   ]
  },
  {
   "cell_type": "code",
   "execution_count": 6,
   "metadata": {},
   "outputs": [
    {
     "name": "stderr",
     "output_type": "stream",
     "text": [
      "INFO:root:saving -0.0, -0.0 as top-left position\n"
     ]
    }
   ],
   "source": [
    "imager.save_top_left_pos()"
   ]
  },
  {
   "cell_type": "code",
   "execution_count": 7,
   "metadata": {},
   "outputs": [
    {
     "name": "stderr",
     "output_type": "stream",
     "text": [
      "INFO:root:stage moving to (0.0, 0.0)\n",
      "INFO:root:movement complete, final position (-0.0, -0.0)\n",
      "INFO:root:saved image 2\n",
      "INFO:root:finished snapping images, check C:\\Users\\Luke\\Desktop\\chip-imager\\chip-imaging\\backend\\prototyping\\sample_data\\test1\n"
     ]
    },
    {
     "name": "stdout",
     "output_type": "stream",
     "text": [
      "True\n"
     ]
    }
   ],
   "source": [
    "\n",
    "imager.run_image_acquisition(r\"C:\\Users\\Luke\\Desktop\\chip-imager\\chip-imaging\\backend\\prototyping\\sample_data\\test1\")"
   ]
  },
  {
   "cell_type": "code",
   "execution_count": 8,
   "metadata": {},
   "outputs": [],
   "source": [
    "grid = imager.get_imaging_grid()"
   ]
  },
  {
   "cell_type": "code",
   "execution_count": 9,
   "metadata": {},
   "outputs": [],
   "source": [
    "grid.set_top_left((0, 0))\n",
    "grid.set_imaging_height(100)\n",
    "grid.set_imaging_width(100)\n",
    "grid.set_distance_between_images(25)"
   ]
  },
  {
   "cell_type": "code",
   "execution_count": 10,
   "metadata": {},
   "outputs": [
    {
     "data": {
      "text/plain": [
       "25"
      ]
     },
     "execution_count": 10,
     "metadata": {},
     "output_type": "execute_result"
    }
   ],
   "source": [
    "grid.get_num_cells()"
   ]
  },
  {
   "cell_type": "code",
   "execution_count": 11,
   "metadata": {},
   "outputs": [
    {
     "name": "stderr",
     "output_type": "stream",
     "text": [
      "INFO:root:stage moving to (0, 0)\n",
      "INFO:root:movement complete, final position (-0.0, -0.0)\n",
      "INFO:root:saved image 2\n",
      "INFO:root:stage moving to (25, 0)\n",
      "INFO:root:movement complete, final position (25.005, -0.0)\n",
      "INFO:root:saved image 3\n",
      "INFO:root:stage moving to (50, 0)\n",
      "INFO:root:movement complete, final position (49.995, -0.0)\n",
      "INFO:root:saved image 4\n",
      "INFO:root:stage moving to (75, 0)\n",
      "INFO:root:movement complete, final position (75.0, -0.0)\n",
      "INFO:root:saved image 5\n",
      "INFO:root:stage moving to (100, 0)\n",
      "INFO:root:movement complete, final position (100.005, -0.0)\n",
      "INFO:root:saved image 6\n",
      "INFO:root:stage moving to (0, 25)\n",
      "INFO:root:movement complete, final position (-0.0, 25.005)\n"
     ]
    },
    {
     "name": "stdout",
     "output_type": "stream",
     "text": [
      "True\n",
      "True\n",
      "True\n",
      "True\n",
      "True\n",
      "True\n"
     ]
    },
    {
     "name": "stderr",
     "output_type": "stream",
     "text": [
      "INFO:root:saved image 7\n",
      "INFO:root:stage moving to (25, 25)\n",
      "INFO:root:movement complete, final position (25.005, 25.005)\n",
      "INFO:root:saved image 8\n",
      "INFO:root:stage moving to (50, 25)\n",
      "INFO:root:movement complete, final position (49.995, 25.005)\n",
      "INFO:root:saved image 9\n",
      "INFO:root:stage moving to (75, 25)\n",
      "INFO:root:movement complete, final position (75.0, 25.005)\n",
      "INFO:root:saved image 10\n",
      "INFO:root:stage moving to (100, 25)\n",
      "INFO:root:movement complete, final position (100.005, 25.005)\n",
      "INFO:root:saved image 11\n",
      "INFO:root:stage moving to (0, 50)\n",
      "INFO:root:movement complete, final position (-0.0, 49.995)\n",
      "INFO:root:saved image 12\n",
      "INFO:root:stage moving to (25, 50)\n",
      "INFO:root:movement complete, final position (25.005, 49.995)\n"
     ]
    },
    {
     "name": "stdout",
     "output_type": "stream",
     "text": [
      "True\n",
      "True\n",
      "True\n",
      "True\n",
      "True\n",
      "True\n"
     ]
    },
    {
     "name": "stderr",
     "output_type": "stream",
     "text": [
      "INFO:root:saved image 13\n",
      "INFO:root:stage moving to (50, 50)\n",
      "INFO:root:movement complete, final position (49.995, 49.995)\n",
      "INFO:root:saved image 14\n",
      "INFO:root:stage moving to (75, 50)\n",
      "INFO:root:movement complete, final position (75.0, 49.995)\n",
      "INFO:root:saved image 15\n",
      "INFO:root:stage moving to (100, 50)\n",
      "INFO:root:movement complete, final position (100.005, 49.995)\n",
      "INFO:root:saved image 16\n",
      "INFO:root:stage moving to (0, 75)\n",
      "INFO:root:movement complete, final position (-0.0, 75.0)\n",
      "INFO:root:saved image 17\n",
      "INFO:root:stage moving to (25, 75)\n",
      "INFO:root:movement complete, final position (25.005, 75.0)\n",
      "INFO:root:saved image 18\n",
      "INFO:root:stage moving to (50, 75)\n",
      "INFO:root:movement complete, final position (49.995, 75.0)\n",
      "INFO:root:saved image 19\n"
     ]
    },
    {
     "name": "stdout",
     "output_type": "stream",
     "text": [
      "True\n",
      "True\n",
      "True\n",
      "True\n",
      "True\n",
      "True\n"
     ]
    },
    {
     "name": "stderr",
     "output_type": "stream",
     "text": [
      "INFO:root:stage moving to (75, 75)\n",
      "INFO:root:movement complete, final position (75.0, 75.0)\n",
      "INFO:root:saved image 20\n",
      "INFO:root:stage moving to (100, 75)\n",
      "INFO:root:movement complete, final position (100.005, 75.0)\n",
      "INFO:root:saved image 21\n",
      "INFO:root:stage moving to (0, 100)\n",
      "INFO:root:movement complete, final position (-0.0, 100.005)\n",
      "INFO:root:saved image 22\n",
      "INFO:root:stage moving to (25, 100)\n",
      "INFO:root:movement complete, final position (25.005, 100.005)\n",
      "INFO:root:saved image 23\n",
      "INFO:root:stage moving to (50, 100)\n",
      "INFO:root:movement complete, final position (49.995, 100.005)\n",
      "INFO:root:saved image 24\n",
      "INFO:root:stage moving to (75, 100)\n",
      "INFO:root:movement complete, final position (75.0, 100.005)\n",
      "INFO:root:saved image 25\n"
     ]
    },
    {
     "name": "stdout",
     "output_type": "stream",
     "text": [
      "True\n",
      "True\n",
      "True\n",
      "True\n",
      "True\n",
      "True\n"
     ]
    },
    {
     "name": "stderr",
     "output_type": "stream",
     "text": [
      "INFO:root:stage moving to (100, 100)\n",
      "INFO:root:movement complete, final position (100.005, 100.005)\n",
      "INFO:root:saved image 26\n",
      "INFO:root:finished snapping images, check C:\\Users\\Luke\\Desktop\\chip-imager\\chip-imaging\\backend\\prototyping\\sample_data\\test1\n"
     ]
    },
    {
     "name": "stdout",
     "output_type": "stream",
     "text": [
      "True\n"
     ]
    }
   ],
   "source": [
    "\n",
    "imager.run_image_acquisition(r\"C:\\Users\\Luke\\Desktop\\chip-imager\\chip-imaging\\backend\\prototyping\\sample_data\\test1\")"
   ]
  },
  {
   "cell_type": "code",
   "execution_count": null,
   "metadata": {},
   "outputs": [],
   "source": []
  }
 ],
 "metadata": {
  "kernelspec": {
   "display_name": "backend-oAOPONjs",
   "language": "python",
   "name": "python3"
  },
  "language_info": {
   "codemirror_mode": {
    "name": "ipython",
    "version": 3
   },
   "file_extension": ".py",
   "mimetype": "text/x-python",
   "name": "python",
   "nbconvert_exporter": "python",
   "pygments_lexer": "ipython3",
   "version": "3.10.11"
  },
  "orig_nbformat": 4
 },
 "nbformat": 4,
 "nbformat_minor": 2
}
