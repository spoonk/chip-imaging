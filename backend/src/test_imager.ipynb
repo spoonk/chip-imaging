{
 "cells": [
  {
   "cell_type": "code",
   "execution_count": 1,
   "metadata": {},
   "outputs": [],
   "source": [
    "import logging\n",
    "logging.basicConfig(level = logging.INFO)"
   ]
  },
  {
   "cell_type": "code",
   "execution_count": 2,
   "metadata": {},
   "outputs": [],
   "source": [
    "from imager.chip_imager import ChipImager\n",
    "from stage.pmm_stage import PMMStage\n",
    "from camera.pmm_camera import PMMCamera"
   ]
  },
  {
   "cell_type": "code",
   "execution_count": 3,
   "metadata": {},
   "outputs": [
    {
     "name": "stderr",
     "output_type": "stream",
     "text": [
      "INFO:root:pymmcore instance loaded from C:\\Users\\Luke\\Desktop\\Barracuda\\AutomatedCE\\config\\NikonEclipseTi.cfg\n",
      "INFO:root:camera instantiated\n",
      "INFO:root:stage instantiated\n"
     ]
    }
   ],
   "source": [
    "cam = PMMCamera()\n",
    "stage = PMMStage()"
   ]
  },
  {
   "cell_type": "code",
   "execution_count": 4,
   "metadata": {},
   "outputs": [],
   "source": [
    "cam.connect()"
   ]
  },
  {
   "cell_type": "code",
   "execution_count": 5,
   "metadata": {},
   "outputs": [],
   "source": [
    "imager = ChipImager(stage, cam)"
   ]
  },
  {
   "cell_type": "code",
   "execution_count": 7,
   "metadata": {},
   "outputs": [
    {
     "name": "stderr",
     "output_type": "stream",
     "text": [
      "INFO:root:saving 37460.80055820942, -28403.700423248112 as top-left position\n"
     ]
    }
   ],
   "source": [
    "imager.save_top_left_pos()"
   ]
  },
  {
   "cell_type": "code",
   "execution_count": 8,
   "metadata": {},
   "outputs": [],
   "source": [
    "grid = imager.get_imaging_grid()"
   ]
  },
  {
   "cell_type": "code",
   "execution_count": 20,
   "metadata": {},
   "outputs": [],
   "source": [
    "grid.set_imaging_height(100)\n",
    "grid.set_imaging_width(100)\n",
    "grid.set_distance_between_images(100)"
   ]
  },
  {
   "cell_type": "code",
   "execution_count": 21,
   "metadata": {},
   "outputs": [
    {
     "data": {
      "text/plain": [
       "(37460.80055820942, -28403.700423248112)"
      ]
     },
     "execution_count": 21,
     "metadata": {},
     "output_type": "execute_result"
    }
   ],
   "source": [
    "grid.get_cell(0).get_center_location()"
   ]
  },
  {
   "cell_type": "code",
   "execution_count": 22,
   "metadata": {},
   "outputs": [
    {
     "data": {
      "text/plain": [
       "4"
      ]
     },
     "execution_count": 22,
     "metadata": {},
     "output_type": "execute_result"
    }
   ],
   "source": [
    "grid.get_num_cells()"
   ]
  },
  {
   "cell_type": "code",
   "execution_count": 23,
   "metadata": {},
   "outputs": [
    {
     "name": "stderr",
     "output_type": "stream",
     "text": [
      "INFO:root:stage moving to (37460.80055820942, -28403.700423248112)\n",
      "INFO:root:movement complete, final position (37460.80055820942, -29403.900438152254)\n",
      "INFO:root:saved image 1\n",
      "INFO:root:stage moving to (37560.80055820942, -28403.700423248112)\n",
      "INFO:root:movement complete, final position (37459.80055819452, -28403.700423248112)\n",
      "INFO:root:saved image 2\n",
      "INFO:root:stage moving to (37460.80055820942, -28503.700423248112)\n",
      "INFO:root:movement complete, final position (37460.80055820942, -28503.70042473823)\n",
      "INFO:root:saved image 3\n",
      "INFO:root:stage moving to (37560.80055820942, -28503.700423248112)\n",
      "INFO:root:movement complete, final position (37460.70055820793, -28503.70042473823)\n",
      "INFO:root:saved image 4\n",
      "INFO:root:finished snapping images, check C:\\Users\\Luke\\Desktop\\chip-imager\\chip-imaging\\backend\\prototyping\\sample_data\\test1\n"
     ]
    }
   ],
   "source": [
    "\n",
    "imager.run_image_acquisition(r\"C:\\Users\\Luke\\Desktop\\chip-imager\\chip-imaging\\backend\\prototyping\\sample_data\\test1\")"
   ]
  },
  {
   "cell_type": "code",
   "execution_count": 24,
   "metadata": {},
   "outputs": [],
   "source": [
    "cam.set_gain(20)"
   ]
  },
  {
   "cell_type": "code",
   "execution_count": 26,
   "metadata": {},
   "outputs": [],
   "source": [
    "cam.set_exposure(50)"
   ]
  },
  {
   "cell_type": "code",
   "execution_count": 27,
   "metadata": {},
   "outputs": [
    {
     "name": "stderr",
     "output_type": "stream",
     "text": [
      "INFO:root:stage moving to (37460.80055820942, -28403.700423248112)\n",
      "INFO:root:movement complete, final position (37560.900559701025, -28403.700423248112)\n",
      "INFO:root:saved image 1\n",
      "INFO:root:stage moving to (37560.80055820942, -28403.700423248112)\n",
      "INFO:root:movement complete, final position (37560.800559699535, -28403.700423248112)\n",
      "INFO:root:saved image 2\n",
      "INFO:root:stage moving to (37460.80055820942, -28503.700423248112)\n",
      "INFO:root:movement complete, final position (37460.40055820346, -28503.80042473972)\n",
      "INFO:root:saved image 3\n",
      "INFO:root:stage moving to (37560.80055820942, -28503.700423248112)\n",
      "INFO:root:movement complete, final position (37460.30055820197, -28503.70042473823)\n",
      "INFO:root:saved image 4\n",
      "INFO:root:finished snapping images, check C:\\Users\\Luke\\Desktop\\chip-imager\\chip-imaging\\backend\\prototyping\\sample_data\\test1\n"
     ]
    }
   ],
   "source": [
    "imager.run_image_acquisition(r\"C:\\Users\\Luke\\Desktop\\chip-imager\\chip-imaging\\backend\\prototyping\\sample_data\\test1\")"
   ]
  },
  {
   "cell_type": "code",
   "execution_count": 21,
   "metadata": {},
   "outputs": [],
   "source": [
    "del ChipImager"
   ]
  },
  {
   "cell_type": "code",
   "execution_count": 14,
   "metadata": {},
   "outputs": [],
   "source": [
    "stage._core.reset()"
   ]
  }
 ],
 "metadata": {
  "kernelspec": {
   "display_name": "backend-oAOPONjs",
   "language": "python",
   "name": "python3"
  },
  "language_info": {
   "codemirror_mode": {
    "name": "ipython",
    "version": 3
   },
   "file_extension": ".py",
   "mimetype": "text/x-python",
   "name": "python",
   "nbconvert_exporter": "python",
   "pygments_lexer": "ipython3",
   "version": "3.10.11"
  },
  "orig_nbformat": 4
 },
 "nbformat": 4,
 "nbformat_minor": 2
}
