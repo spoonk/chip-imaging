{
 "cells": [
  {
   "attachments": {},
   "cell_type": "markdown",
   "metadata": {},
   "source": [
    "### Load the nikon eclipse pycromanager configuration file\n",
    "\n",
    "> referencing \"C:\\Users\\Luke\\Desktop\\Barracuda\\AutomatedCE\\L1\\Controllers.py\",\n",
    "> specifically the pycromanager controller class"
   ]
  },
  {
   "cell_type": "code",
   "execution_count": 1,
   "metadata": {},
   "outputs": [],
   "source": [
    "eclipse_cfg_path: str = r\"C:\\Users\\Luke\\Desktop\\Barracuda\\AutomatedCE\\config\\NikonEclipseTi.cfg\""
   ]
  },
  {
   "attachments": {},
   "cell_type": "markdown",
   "metadata": {},
   "source": [
    "The below code showcases that you need to have micromanager open with a server running in order to use pycromanager\n",
    "\n",
    "\n",
    "For this reason, I will use pymmcore, which doesn't need a server running to control micromanager"
   ]
  },
  {
   "cell_type": "code",
   "execution_count": 2,
   "metadata": {},
   "outputs": [
    {
     "ename": "Exception",
     "evalue": "Couldn't create Core. Is Micro-Manager running and is the ZMQ server on {port} option enabled?",
     "output_type": "error",
     "traceback": [
      "\u001b[1;31m---------------------------------------------------------------------------\u001b[0m",
      "\u001b[1;31mException\u001b[0m                                 Traceback (most recent call last)",
      "File \u001b[1;32mc:\\Users\\Luke\\.virtualenvs\\backend-oAOPONjs\\lib\\site-packages\\pycromanager\\mm_java_classes.py:85\u001b[0m, in \u001b[0;36mCore.__new__\u001b[1;34m(cls, convert_camel_case, port, new_socket, debug, timeout)\u001b[0m\n\u001b[0;32m     84\u001b[0m \u001b[39mtry\u001b[39;00m:\n\u001b[1;32m---> 85\u001b[0m     \u001b[39mreturn\u001b[39;00m JavaObject(\u001b[39m\"\u001b[39;49m\u001b[39mmmcorej.CMMCore\u001b[39;49m\u001b[39m\"\u001b[39;49m, new_socket\u001b[39m=\u001b[39;49mnew_socket,\n\u001b[0;32m     86\u001b[0m               port\u001b[39m=\u001b[39;49mport, timeout\u001b[39m=\u001b[39;49mtimeout, convert_camel_case\u001b[39m=\u001b[39;49mconvert_camel_case, debug\u001b[39m=\u001b[39;49mdebug)\n\u001b[0;32m     87\u001b[0m \u001b[39mexcept\u001b[39;00m \u001b[39mException\u001b[39;00m \u001b[39mas\u001b[39;00m e:\n",
      "File \u001b[1;32mc:\\Users\\Luke\\.virtualenvs\\backend-oAOPONjs\\lib\\site-packages\\pycromanager\\zmq_bridge\\wrappers.py:73\u001b[0m, in \u001b[0;36mJavaObject.__new__\u001b[1;34m(cls, classpath, args, port, timeout, new_socket, convert_camel_case, debug)\u001b[0m\n\u001b[0;32m     56\u001b[0m \u001b[39m\u001b[39m\u001b[39m\"\"\"\u001b[39;00m\n\u001b[0;32m     57\u001b[0m \u001b[39mclasspath: str\u001b[39;00m\n\u001b[0;32m     58\u001b[0m \u001b[39m    Full classpath of the java object\u001b[39;00m\n\u001b[1;32m   (...)\u001b[0m\n\u001b[0;32m     71\u001b[0m \u001b[39m    print debug messages\u001b[39;00m\n\u001b[0;32m     72\u001b[0m \u001b[39m\"\"\"\u001b[39;00m\n\u001b[1;32m---> 73\u001b[0m bridge \u001b[39m=\u001b[39m _Bridge(port\u001b[39m=\u001b[39;49mport, timeout\u001b[39m=\u001b[39;49mtimeout, convert_camel_case\u001b[39m=\u001b[39;49mconvert_camel_case, debug\u001b[39m=\u001b[39;49mdebug)\n\u001b[0;32m     74\u001b[0m \u001b[39mreturn\u001b[39;00m bridge\u001b[39m.\u001b[39m_construct_java_object(classpath, new_socket\u001b[39m=\u001b[39mnew_socket, args\u001b[39m=\u001b[39margs)\n",
      "File \u001b[1;32mc:\\Users\\Luke\\.virtualenvs\\backend-oAOPONjs\\lib\\site-packages\\pycromanager\\zmq_bridge\\_bridge.py:290\u001b[0m, in \u001b[0;36m_Bridge.__init__\u001b[1;34m(self, port, convert_camel_case, debug, ip_address, timeout, iterate)\u001b[0m\n\u001b[0;32m    289\u001b[0m \u001b[39mif\u001b[39;00m reply_json \u001b[39mis\u001b[39;00m \u001b[39mNone\u001b[39;00m:\n\u001b[1;32m--> 290\u001b[0m      \u001b[39mraise\u001b[39;00m \u001b[39mException\u001b[39;00m(\n\u001b[0;32m    291\u001b[0m         \u001b[39mf\u001b[39m\u001b[39m\"\u001b[39m\u001b[39mSocket timed out after \u001b[39m\u001b[39m{\u001b[39;00mtimeout\u001b[39m}\u001b[39;00m\u001b[39m milliseconds\u001b[39m\u001b[39m\"\u001b[39m\n\u001b[0;32m    292\u001b[0m     )\n\u001b[0;32m    293\u001b[0m \u001b[39mif\u001b[39;00m reply_json[\u001b[39m\"\u001b[39m\u001b[39mtype\u001b[39m\u001b[39m\"\u001b[39m] \u001b[39m==\u001b[39m \u001b[39m\"\u001b[39m\u001b[39mexception\u001b[39m\u001b[39m\"\u001b[39m:\n",
      "\u001b[1;31mException\u001b[0m: Socket timed out after 1000 milliseconds",
      "\nDuring handling of the above exception, another exception occurred:\n",
      "\u001b[1;31mException\u001b[0m                                 Traceback (most recent call last)",
      "Cell \u001b[1;32mIn[2], line 3\u001b[0m\n\u001b[0;32m      1\u001b[0m \u001b[39mfrom\u001b[39;00m \u001b[39mpycromanager\u001b[39;00m \u001b[39mimport\u001b[39;00m Core\n\u001b[1;32m----> 3\u001b[0m core \u001b[39m=\u001b[39m Core()\n\u001b[0;32m      4\u001b[0m \u001b[39mprint\u001b[39m(core)\n",
      "File \u001b[1;32mc:\\Users\\Luke\\.virtualenvs\\backend-oAOPONjs\\lib\\site-packages\\pycromanager\\mm_java_classes.py:88\u001b[0m, in \u001b[0;36mCore.__new__\u001b[1;34m(cls, convert_camel_case, port, new_socket, debug, timeout)\u001b[0m\n\u001b[0;32m     85\u001b[0m     \u001b[39mreturn\u001b[39;00m JavaObject(\u001b[39m\"\u001b[39m\u001b[39mmmcorej.CMMCore\u001b[39m\u001b[39m\"\u001b[39m, new_socket\u001b[39m=\u001b[39mnew_socket,\n\u001b[0;32m     86\u001b[0m               port\u001b[39m=\u001b[39mport, timeout\u001b[39m=\u001b[39mtimeout, convert_camel_case\u001b[39m=\u001b[39mconvert_camel_case, debug\u001b[39m=\u001b[39mdebug)\n\u001b[0;32m     87\u001b[0m \u001b[39mexcept\u001b[39;00m \u001b[39mException\u001b[39;00m \u001b[39mas\u001b[39;00m e:\n\u001b[1;32m---> 88\u001b[0m     \u001b[39mraise\u001b[39;00m \u001b[39mException\u001b[39;00m(\u001b[39m\"\u001b[39m\u001b[39mCouldn\u001b[39m\u001b[39m'\u001b[39m\u001b[39mt create Core. Is Micro-Manager running and is the ZMQ server on \u001b[39m\u001b[39m{port}\u001b[39;00m\u001b[39m option enabled?\u001b[39m\u001b[39m\"\u001b[39m)\n",
      "\u001b[1;31mException\u001b[0m: Couldn't create Core. Is Micro-Manager running and is the ZMQ server on {port} option enabled?"
     ]
    }
   ],
   "source": [
    "from pycromanager import Core\n",
    "\n",
    "core = Core()\n",
    "print(core)"
   ]
  },
  {
   "cell_type": "code",
   "execution_count": 2,
   "metadata": {},
   "outputs": [],
   "source": [
    "import pymmcore"
   ]
  },
  {
   "cell_type": "code",
   "execution_count": 3,
   "metadata": {},
   "outputs": [],
   "source": [
    "import os\n",
    "mm_dir = \"C:\\Program Files\\Micro-Manager-2.0chipimaging\" # note, I installed a new micromanager, old suffix was 'gamma'\n",
    "device_config_file_name = \"MMConfig_demo.cfg\" # this demo file has a bunch of 'mock' devices\n",
    "device_cfg_path = os.path.join(mm_dir, device_config_file_name)\n",
    "# this lets us simulate running on hardware without actually controlling anything\n",
    "\n",
    "mmc = pymmcore.CMMCore()\n",
    "mmc.setDeviceAdapterSearchPaths([mm_dir])\n",
    "mmc.loadSystemConfiguration(device_cfg_path)"
   ]
  },
  {
   "cell_type": "code",
   "execution_count": 4,
   "metadata": {},
   "outputs": [
    {
     "data": {
      "text/plain": [
       "[-0.0, 10.004999999999999]"
      ]
     },
     "execution_count": 4,
     "metadata": {},
     "output_type": "execute_result"
    }
   ],
   "source": [
    "mmc.setXYPosition(0.0, 10.0)\n",
    "mmc.getXYPosition()"
   ]
  },
  {
   "cell_type": "code",
   "execution_count": 7,
   "metadata": {},
   "outputs": [
    {
     "data": {
      "text/plain": [
       "'DXYStage'"
      ]
     },
     "execution_count": 7,
     "metadata": {},
     "output_type": "execute_result"
    }
   ],
   "source": [
    "mmc.getDeviceName(\"XY\")"
   ]
  },
  {
   "cell_type": "code",
   "execution_count": 9,
   "metadata": {},
   "outputs": [],
   "source": [
    "mmc.waitForDevice('XY')"
   ]
  },
  {
   "cell_type": "code",
   "execution_count": 14,
   "metadata": {},
   "outputs": [
    {
     "data": {
      "text/plain": [
       "(1.0, 0.0, 0.0, 0.0, 1.0, 0.0)"
      ]
     },
     "execution_count": 14,
     "metadata": {},
     "output_type": "execute_result"
    }
   ],
   "source": [
    "mmc.getPixelSizeAffine()"
   ]
  },
  {
   "cell_type": "code",
   "execution_count": 15,
   "metadata": {},
   "outputs": [
    {
     "data": {
      "text/plain": [
       "1.0"
      ]
     },
     "execution_count": 15,
     "metadata": {},
     "output_type": "execute_result"
    }
   ],
   "source": [
    "mmc.getPixelSizeUm()"
   ]
  },
  {
   "cell_type": "code",
   "execution_count": 10,
   "metadata": {},
   "outputs": [],
   "source": [
    "mmc.reset()"
   ]
  },
  {
   "cell_type": "code",
   "execution_count": 17,
   "metadata": {},
   "outputs": [
    {
     "data": {
      "text/plain": [
       "0.0"
      ]
     },
     "execution_count": 17,
     "metadata": {},
     "output_type": "execute_result"
    }
   ],
   "source": [
    "mmc.getPixelSizeUm()"
   ]
  },
  {
   "cell_type": "code",
   "execution_count": null,
   "metadata": {},
   "outputs": [],
   "source": []
  }
 ],
 "metadata": {
  "kernelspec": {
   "display_name": "backend-oAOPONjs",
   "language": "python",
   "name": "python3"
  },
  "language_info": {
   "codemirror_mode": {
    "name": "ipython",
    "version": 3
   },
   "file_extension": ".py",
   "mimetype": "text/x-python",
   "name": "python",
   "nbconvert_exporter": "python",
   "pygments_lexer": "ipython3",
   "version": "3.10.11"
  },
  "orig_nbformat": 4
 },
 "nbformat": 4,
 "nbformat_minor": 2
}
