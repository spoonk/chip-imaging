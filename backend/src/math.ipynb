{
 "cells": [
  {
   "cell_type": "code",
   "execution_count": 1,
   "metadata": {},
   "outputs": [],
   "source": [
    "import numpy as np"
   ]
  },
  {
   "cell_type": "code",
   "execution_count": 2,
   "metadata": {},
   "outputs": [],
   "source": [
    "theta = 0.0448"
   ]
  },
  {
   "cell_type": "code",
   "execution_count": 3,
   "metadata": {},
   "outputs": [],
   "source": [
    "rot = np.matrix([[np.cos(theta), -np.sin(theta)], [np.sin(theta), np.cos(theta)]])"
   ]
  },
  {
   "cell_type": "code",
   "execution_count": 4,
   "metadata": {},
   "outputs": [
    {
     "data": {
      "text/plain": [
       "matrix([[ 0.99899665, -0.04478502],\n",
       "        [ 0.04478502,  0.99899665]])"
      ]
     },
     "execution_count": 4,
     "metadata": {},
     "output_type": "execute_result"
    }
   ],
   "source": [
    "rot"
   ]
  },
  {
   "cell_type": "code",
   "execution_count": 5,
   "metadata": {},
   "outputs": [],
   "source": [
    "cam_coords = (0.6278) * rot * (np.matrix([570.1, 0.1]).T)"
   ]
  },
  {
   "cell_type": "code",
   "execution_count": 6,
   "metadata": {},
   "outputs": [
    {
     "data": {
      "text/plain": [
       "matrix([[357.54685985],\n",
       "        [ 16.09166731]])"
      ]
     },
     "execution_count": 6,
     "metadata": {},
     "output_type": "execute_result"
    }
   ],
   "source": [
    "cam_coords"
   ]
  },
  {
   "cell_type": "code",
   "execution_count": 7,
   "metadata": {},
   "outputs": [],
   "source": [
    "cam_first_offset = (0.6278) * rot * (np.matrix([1500, 0]).T)"
   ]
  },
  {
   "cell_type": "code",
   "execution_count": 8,
   "metadata": {},
   "outputs": [
    {
     "data": {
      "text/plain": [
       "matrix([[940.75514326],\n",
       "        [ 42.1740492 ]])"
      ]
     },
     "execution_count": 8,
     "metadata": {},
     "output_type": "execute_result"
    }
   ],
   "source": [
    "cam_first_offset"
   ]
  },
  {
   "cell_type": "code",
   "execution_count": 9,
   "metadata": {},
   "outputs": [
    {
     "data": {
      "text/plain": [
       "941.7"
      ]
     },
     "execution_count": 9,
     "metadata": {},
     "output_type": "execute_result"
    }
   ],
   "source": [
    "0.6278 * 1500"
   ]
  },
  {
   "cell_type": "code",
   "execution_count": 14,
   "metadata": {},
   "outputs": [],
   "source": [
    "from stitcher.linear_stitcher import LinearStitcher\n",
    "from imager.imaging_grid import ImagingGrid"
   ]
  },
  {
   "cell_type": "code",
   "execution_count": 36,
   "metadata": {},
   "outputs": [],
   "source": [
    "grid = ImagingGrid()\n",
    "grid.set_distance_between_images(1500)\n",
    "grid.set_imaging_width(2000)\n",
    "grid.set_imaging_height(2000)\n",
    "grid.set_pixels_per_um(0.6265)\n",
    "grid.set_top_left((0, 0))"
   ]
  },
  {
   "cell_type": "code",
   "execution_count": 37,
   "metadata": {},
   "outputs": [],
   "source": [
    "stitcher = LinearStitcher(r\"C:\\Users\\Luke\\Desktop\\chip-imager\\chip-imaging\\backend\\prototyping\\sample_data\\test_manual_shift\", grid)"
   ]
  },
  {
   "cell_type": "code",
   "execution_count": 61,
   "metadata": {},
   "outputs": [],
   "source": [
    "theta = 0.053\n",
    "rot = np.matrix([[np.cos(theta), -np.sin(theta)], [np.sin(theta), np.cos(theta)]])\n",
    "cam_first_offset = (0.6265) * rot * (np.matrix([1500, 0]).T)"
   ]
  },
  {
   "cell_type": "code",
   "execution_count": 66,
   "metadata": {},
   "outputs": [],
   "source": [
    "projected_x = 0.6265 * 1500"
   ]
  },
  {
   "cell_type": "code",
   "execution_count": 62,
   "metadata": {},
   "outputs": [
    {
     "data": {
      "text/plain": [
       "matrix([[938.43043006],\n",
       "        [ 49.78343541]])"
      ]
     },
     "execution_count": 62,
     "metadata": {},
     "output_type": "execute_result"
    }
   ],
   "source": [
    "cam_first_offset"
   ]
  },
  {
   "cell_type": "code",
   "execution_count": 67,
   "metadata": {},
   "outputs": [],
   "source": [
    "stitcher.set_xy_shift(projected_x - cam_first_offset[0], cam_first_offset[1])"
   ]
  },
  {
   "cell_type": "code",
   "execution_count": 68,
   "metadata": {},
   "outputs": [
    {
     "name": "stdout",
     "output_type": "stream",
     "text": [
      "[1881, 1978]\n",
      "[941, 1928]\n",
      "[2, 1879]\n",
      "[1880, 1038]\n",
      "[940, 988]\n",
      "[1, 939]\n",
      "[1879, 99]\n",
      "[939, 49]\n",
      "[0, 0]\n"
     ]
    }
   ],
   "source": [
    "stitcher.run()"
   ]
  },
  {
   "attachments": {},
   "cell_type": "markdown",
   "metadata": {},
   "source": [
    "## test a big stitch, determine theta"
   ]
  },
  {
   "cell_type": "code",
   "execution_count": 94,
   "metadata": {},
   "outputs": [],
   "source": [
    "big_data = r\"C:\\Users\\Luke\\Desktop\\chip-imager\\chip-imaging\\backend\\prototyping\\sample_data\\test3\"\n",
    "grid = ImagingGrid()\n",
    "grid.set_properties([0, 0], 20000, 10000, 1800, 0.62)\n",
    "grid.set_imaging_width(20000)\n",
    "grid.set_imaging_height(10000)\n",
    "grid.set_pixels_per_um(0.625)"
   ]
  },
  {
   "cell_type": "code",
   "execution_count": 95,
   "metadata": {},
   "outputs": [],
   "source": [
    "stitcher = LinearStitcher(big_data, grid)"
   ]
  },
  {
   "cell_type": "code",
   "execution_count": 102,
   "metadata": {},
   "outputs": [],
   "source": [
    "dist = 1800\n",
    "theta = -0.014\n",
    "rot = np.matrix([[np.cos(theta), -np.sin(theta)], [np.sin(theta), np.cos(theta)]])\n",
    "cam_first_offset = (0.6265) * rot * (np.matrix([dist, 0]).T)\n",
    "projected_x = 0.6265 * dist"
   ]
  },
  {
   "cell_type": "code",
   "execution_count": 103,
   "metadata": {},
   "outputs": [],
   "source": [
    "\n",
    "stitcher.set_xy_shift(projected_x - cam_first_offset[0], cam_first_offset[1])"
   ]
  },
  {
   "cell_type": "code",
   "execution_count": 104,
   "metadata": {},
   "outputs": [
    {
     "name": "stdout",
     "output_type": "stream",
     "text": [
      "[13501, 6560]\n",
      "[12376, 6576]\n",
      "[11251, 6592]\n",
      "[10126, 6607]\n",
      "[9001, 6623]\n",
      "[7876, 6639]\n",
      "[6751, 6655]\n",
      "[5626, 6671]\n",
      "[4501, 6686]\n",
      "[3376, 6702]\n",
      "[2251, 6718]\n",
      "[1126, 6734]\n",
      "[1, 6750]\n",
      "[13501, 5435]\n",
      "[12376, 5451]\n",
      "[11251, 5467]\n",
      "[10126, 5482]\n",
      "[9001, 5498]\n",
      "[7876, 5514]\n",
      "[6751, 5530]\n",
      "[5626, 5546]\n",
      "[4500, 5561]\n",
      "[3375, 5577]\n",
      "[2250, 5593]\n",
      "[1125, 5609]\n",
      "[0, 5625]\n",
      "[13500, 4310]\n",
      "[12375, 4326]\n",
      "[11250, 4342]\n",
      "[10125, 4357]\n",
      "[9000, 4373]\n",
      "[7875, 4389]\n",
      "[6750, 4405]\n",
      "[5625, 4421]\n",
      "[4500, 4436]\n",
      "[3375, 4452]\n",
      "[2250, 4468]\n",
      "[1125, 4484]\n",
      "[0, 4500]\n",
      "[13500, 3185]\n",
      "[12375, 3201]\n",
      "[11250, 3217]\n",
      "[10125, 3232]\n",
      "[9000, 3248]\n",
      "[7875, 3264]\n",
      "[6750, 3280]\n",
      "[5625, 3296]\n",
      "[4500, 3311]\n",
      "[3375, 3327]\n",
      "[2250, 3343]\n",
      "[1125, 3359]\n",
      "[0, 3375]\n",
      "[13500, 2060]\n",
      "[12375, 2076]\n",
      "[11250, 2092]\n",
      "[10125, 2107]\n",
      "[9000, 2123]\n",
      "[7875, 2139]\n",
      "[6750, 2155]\n",
      "[5625, 2171]\n",
      "[4500, 2186]\n",
      "[3375, 2202]\n",
      "[2250, 2218]\n",
      "[1125, 2234]\n",
      "[0, 2250]\n",
      "[13500, 935]\n",
      "[12375, 951]\n",
      "[11250, 967]\n",
      "[10125, 982]\n",
      "[9000, 998]\n",
      "[7875, 1014]\n",
      "[6750, 1030]\n",
      "[5625, 1046]\n",
      "[4500, 1061]\n",
      "[3375, 1077]\n",
      "[2250, 1093]\n",
      "[1125, 1109]\n",
      "[0, 1125]\n",
      "[13500, -189]\n",
      "[12375, -173]\n",
      "[11250, -157]\n",
      "[10125, -142]\n",
      "[9000, -126]\n",
      "[7875, -110]\n",
      "[6750, -94]\n",
      "[5625, -78]\n",
      "[4500, -63]\n",
      "[3375, -47]\n",
      "[2250, -31]\n",
      "[1125, -15]\n",
      "[0, 0]\n"
     ]
    }
   ],
   "source": [
    "stitcher.run()"
   ]
  },
  {
   "cell_type": "code",
   "execution_count": null,
   "metadata": {},
   "outputs": [],
   "source": []
  },
  {
   "cell_type": "code",
   "execution_count": null,
   "metadata": {},
   "outputs": [],
   "source": []
  }
 ],
 "metadata": {
  "kernelspec": {
   "display_name": "backend-oAOPONjs",
   "language": "python",
   "name": "python3"
  },
  "language_info": {
   "codemirror_mode": {
    "name": "ipython",
    "version": 3
   },
   "file_extension": ".py",
   "mimetype": "text/x-python",
   "name": "python",
   "nbconvert_exporter": "python",
   "pygments_lexer": "ipython3",
   "version": "3.10.11"
  },
  "orig_nbformat": 4
 },
 "nbformat": 4,
 "nbformat_minor": 2
}
